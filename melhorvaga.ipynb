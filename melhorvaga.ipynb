{
 "cells": [
  {
   "cell_type": "code",
   "execution_count": 2,
   "id": "eight-track",
   "metadata": {},
   "outputs": [],
   "source": [
    "#Importação das bibliotecas utilizadas\n",
    "import pandas as pd\n",
    "import json\n",
    "import mysql.connector\n",
    "import csv\n",
    "\n",
    "#Definição do banco de dados\n",
    "mydb = mysql.connector.connect(\n",
    "  host=\"localhost\",\n",
    "  user=\"root\",\n",
    "  password=\"\",\n",
    "  database=\"me\"\n",
    ")\n",
    "\n",
    "#Caso o teste seja executado mais de uma vez, garante que os dados serão excluídos antes de adicionar novos dados, evitando duplicidade\n",
    "mycursor = mydb.cursor()\n",
    "sql = \"delete from logs\"\n",
    "mycursor.execute(sql)\n",
    "mydb.commit()\n",
    "\n",
    "#Leitura do arquivo e inserção de valores no banco de dados\n",
    "#O banco possui 6 colunas (id de consumidor, id de serviço, tempo de proxy, tempo de kong, tempo de request e uma coluna log com o restando do json)\n",
    "with open('logs.txt') as logs:\n",
    "    for line in logs:\n",
    "        line_json = json.loads(line)\n",
    "        consumer_id = line_json['authenticated_entity']['consumer_id']['uuid']\n",
    "        service_id = line_json['service']['id']\n",
    "        l_proxy = line_json['latencies']['proxy']\n",
    "        l_kong = line_json['latencies']['kong']\n",
    "        l_request = line_json['latencies']['request']\n",
    "        mycursor = mydb.cursor()\n",
    "        sql = \"INSERT INTO logs (consumer_id, service_id, log, latencies_proxy, latencies_kong, latencies_request) VALUES (%s, %s, %s, %s, %s, %s)\"\n",
    "        val = (consumer_id, service_id, line, l_proxy, l_kong, l_request)\n",
    "        mycursor.execute(sql, val)\n",
    "        mydb.commit()"
   ]
  },
  {
   "cell_type": "code",
   "execution_count": 3,
   "id": "juvenile-loading",
   "metadata": {},
   "outputs": [],
   "source": [
    "#Criação do csv de requisições por consumidor com consulta via mysql\n",
    "consumer_requests = pd.read_sql('SELECT consumer_id, count(*) as requests FROM logs group by consumer_id;', con=mydb)\n",
    "consumer_requests.to_csv('consumer_requests.csv', index=False)\n",
    "\n",
    "#Criação do csv de requisições por serviço com consulta via mysql\n",
    "service_requests = pd.read_sql('SELECT service_id, count(*) as requests FROM logs group by service_id;', con=mydb)\n",
    "service_requests.to_csv('service_requests.csv', index=False)\n",
    "\n",
    "#Criação do csv de tempo médio de proxy, kong e requests por serviço com consulta via mysql\n",
    "service_average = pd.read_sql('select service_id, avg(latencies_proxy) as average_proxy, avg(latencies_kong) as average_kong, avg(latencies_request) as average_request from me.logs group by service_id;', con=mydb)\n",
    "service_average.to_csv('service_average.csv', index=False)"
   ]
  }
 ],
 "metadata": {
  "kernelspec": {
   "display_name": "Python 3",
   "language": "python",
   "name": "python3"
  },
  "language_info": {
   "codemirror_mode": {
    "name": "ipython",
    "version": 3
   },
   "file_extension": ".py",
   "mimetype": "text/x-python",
   "name": "python",
   "nbconvert_exporter": "python",
   "pygments_lexer": "ipython3",
   "version": "3.9.1"
  }
 },
 "nbformat": 4,
 "nbformat_minor": 5
}
